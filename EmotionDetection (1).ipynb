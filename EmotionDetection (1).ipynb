{
  "nbformat": 4,
  "nbformat_minor": 0,
  "metadata": {
    "colab": {
      "name": "EmotionDetection.ipynb",
      "provenance": [],
      "collapsed_sections": []
    },
    "kernelspec": {
      "name": "python3",
      "display_name": "Python 3"
    },
    "language_info": {
      "name": "python"
    }
  },
  "cells": [
    {
      "cell_type": "code",
      "source": [
        "from google.colab import drive\n",
        "drive.mount('/content/drive')"
      ],
      "metadata": {
        "colab": {
          "base_uri": "https://localhost:8080/"
        },
        "id": "TGvM-eTIWlzA",
        "outputId": "395a96b5-506a-4723-ca35-552c6af52d18"
      },
      "execution_count": null,
      "outputs": [
        {
          "output_type": "stream",
          "name": "stdout",
          "text": [
            "Drive already mounted at /content/drive; to attempt to forcibly remount, call drive.mount(\"/content/drive\", force_remount=True).\n"
          ]
        }
      ]
    },
    {
      "cell_type": "code",
      "execution_count": null,
      "metadata": {
        "id": "YdpmC10ATFL3"
      },
      "outputs": [],
      "source": [
        "import soundfile\n",
        "import numpy as np\n",
        "import librosa\n",
        "import glob\n",
        "import os\n",
        "from sklearn.neural_network import MLPClassifier\n",
        "from sklearn.metrics import accuracy_score\n",
        "from sklearn.model_selection import train_test_split\n"
      ]
    },
    {
      "cell_type": "code",
      "source": [
        "int2emotion = {\n",
        "    \"01\": \"neutral\",\n",
        "    \"02\": \"calm\",\n",
        "    \"03\": \"happy\",\n",
        "    \"04\": \"sad\",\n",
        "    \"05\": \"angry\",\n",
        "    \"06\": \"fearful\",\n",
        "    \"07\": \"disgust\",\n",
        "    \"08\": \"surprised\"\n",
        "}\n",
        "\n",
        "AVAILABLE_EMOTIONS = {\n",
        "    \"angry\",\n",
        "    \"sad\",\n",
        "    \"neutral\",\n",
        "    \"happy\"\n",
        "}\n"
      ],
      "metadata": {
        "id": "h4X0JiltTOu0"
      },
      "execution_count": null,
      "outputs": []
    },
    {
      "cell_type": "code",
      "source": [
        "def extract_feature(file_name, **kwargs):\n",
        "    mfcc = kwargs.get(\"mfcc\")\n",
        "    chroma = kwargs.get(\"chroma\")\n",
        "    mel = kwargs.get(\"mel\")\n",
        "    contrast = kwargs.get(\"contrast\")\n",
        "    tonnetz = kwargs.get(\"tonnetz\")\n",
        "    with soundfile.SoundFile(file_name) as sound_file:\n",
        "        X = sound_file.read(dtype=\"float32\")\n",
        "        sample_rate = sound_file.samplerate\n",
        "        if chroma or contrast:\n",
        "            stft = np.abs(librosa.stft(X))\n",
        "        result = np.array([])\n",
        "        if mfcc:\n",
        "            mfccs = np.mean(librosa.feature.mfcc(y=X, sr=sample_rate, n_mfcc=40).T, axis=0)\n",
        "            result = np.hstack((result, mfccs))\n",
        "        if chroma:\n",
        "            chroma = np.mean(librosa.feature.chroma_stft(S=stft, sr=sample_rate).T,axis=0)\n",
        "            result = np.hstack((result, chroma))\n",
        "        if mel:\n",
        "            mel = np.mean(librosa.feature.melspectrogram(X, sr=sample_rate).T,axis=0)\n",
        "            result = np.hstack((result, mel))\n",
        "        if contrast:\n",
        "            contrast = np.mean(librosa.feature.spectral_contrast(S=stft, sr=sample_rate).T,axis=0)\n",
        "            result = np.hstack((result, contrast))\n",
        "        if tonnetz:\n",
        "            tonnetz = np.mean(librosa.feature.tonnetz(y=librosa.effects.harmonic(X), sr=sample_rate).T,axis=0)\n",
        "            result = np.hstack((result, tonnetz))\n",
        "    return result\n"
      ],
      "metadata": {
        "id": "TFkgP_cdTU_i"
      },
      "execution_count": null,
      "outputs": []
    },
    {
      "cell_type": "code",
      "source": [
        "\n",
        "def load_dataset(test_size=0.2):\n",
        "    X, y = [], []\n",
        "    for file in glob.glob(\"/content/drive/MyDrive/data/Actor_*/*.wav\"):\n",
        "       \n",
        "        basename = os.path.basename(file)\n",
        "       \n",
        "        emotion = int2emotion[basename.split(\"-\")[2]]\n",
        "    \n",
        "        if emotion not in AVAILABLE_EMOTIONS:\n",
        "            continue\n",
        "     \n",
        "        features = extract_feature(file, mfcc=True, chroma=True, mel=True)\n",
        "        \n",
        "        X.append(features)\n",
        "        y.append(emotion)\n",
        "  \n",
        "    return train_test_split(np.array(X), y, test_size=test_size, random_state=7)"
      ],
      "metadata": {
        "id": "a2GlKX_aWTGX"
      },
      "execution_count": null,
      "outputs": []
    },
    {
      "cell_type": "code",
      "source": [
        "X_train, X_test, y_train, y_test = load_dataset(test_size=0.25)\n",
        "\n",
        "print(\"[+] Number of training samples:\", X_train.shape[0])\n",
        "\n",
        "print(\"[+] Number of testing samples:\", X_test.shape[0])\n",
        "\n",
        "print(\"[+] Number of features:\", X_train.shape[1])\n",
        "\n",
        "model_params = {\n",
        "    'alpha': 0.01,\n",
        "    'batch_size': 256,\n",
        "    'epsilon': 1e-08, \n",
        "    'hidden_layer_sizes': (300,), \n",
        "    'learning_rate': 'adaptive', \n",
        "    'max_iter': 500, \n",
        "}\n",
        "\n",
        "model = MLPClassifier(**model_params)\n",
        "\n",
        "\n",
        "print(\"[*] Training the model...\")\n",
        "model.fit(X_train, y_train)\n",
        "\n",
        "\n",
        "y_pred = model.predict(X_test)\n",
        "\n",
        "\n",
        "accuracy = accuracy_score(y_true=y_test, y_pred=y_pred)\n",
        "\n",
        "print(\"Accuracy: {:.2f}%\".format(accuracy*100))\n"
      ],
      "metadata": {
        "colab": {
          "base_uri": "https://localhost:8080/"
        },
        "id": "E6jVgHVCTZnj",
        "outputId": "c7a60aee-24e3-4fec-b41d-dd577e8266e6"
      },
      "execution_count": null,
      "outputs": [
        {
          "output_type": "stream",
          "name": "stdout",
          "text": [
            "[+] Number of training samples: 504\n",
            "[+] Number of testing samples: 168\n",
            "[+] Number of features: 180\n",
            "[*] Training the model...\n",
            "Accuracy: 66.67%\n"
          ]
        }
      ]
    },
    {
      "cell_type": "code",
      "source": [
        "from sklearn import metrics\n",
        "print(metrics.classification_report(y_test, y_pred))"
      ],
      "metadata": {
        "colab": {
          "base_uri": "https://localhost:8080/"
        },
        "id": "nNGQqsQTTpBK",
        "outputId": "686160ff-9145-4710-a90d-449c25be96bb"
      },
      "execution_count": null,
      "outputs": [
        {
          "output_type": "stream",
          "name": "stdout",
          "text": [
            "              precision    recall  f1-score   support\n",
            "\n",
            "       angry       0.76      0.73      0.74        44\n",
            "       happy       0.75      0.73      0.74        49\n",
            "     neutral       0.49      0.69      0.57        29\n",
            "         sad       0.65      0.52      0.58        46\n",
            "\n",
            "    accuracy                           0.67       168\n",
            "   macro avg       0.66      0.67      0.66       168\n",
            "weighted avg       0.68      0.67      0.67       168\n",
            "\n"
          ]
        }
      ]
    },
    {
      "cell_type": "markdown",
      "source": [
        "###Test the model "
      ],
      "metadata": {
        "id": "yFQGGVhMGEct"
      }
    },
    {
      "cell_type": "code",
      "source": [
        "file = \"audio.wav\""
      ],
      "metadata": {
        "id": "FQBdYwEkGD2C"
      },
      "execution_count": null,
      "outputs": []
    },
    {
      "cell_type": "code",
      "source": [
        "features = extract_feature(file, mfcc=True, chroma=True, mel=True).reshape(1, -1)"
      ],
      "metadata": {
        "id": "3Q0-1-liGegW"
      },
      "execution_count": null,
      "outputs": []
    },
    {
      "cell_type": "code",
      "source": [
        "result = model.predict(features)[0]\n",
        "\n",
        "print(\"result:\", result)"
      ],
      "metadata": {
        "colab": {
          "base_uri": "https://localhost:8080/"
        },
        "id": "ZGYiZG6yGjIB",
        "outputId": "8aeacca7-0e82-4699-879d-ef6669bf69fa"
      },
      "execution_count": null,
      "outputs": [
        {
          "output_type": "stream",
          "name": "stdout",
          "text": [
            "result: happy\n"
          ]
        }
      ]
    },
    {
      "cell_type": "code",
      "source": [
        ""
      ],
      "metadata": {
        "id": "LRcAOtCJwjn3"
      },
      "execution_count": null,
      "outputs": []
    }
  ]
}